{
 "cells": [
  {
   "cell_type": "markdown",
   "metadata": {},
   "source": [
    "## Demostrator 1\n",
    "#### Purpose:\n",
    "- Load and explore a target variable from ERA5 used by the IceNet2 model\n",
    "\n",
    "#### Comments:\n",
    "- Some code snippets were adapted from icenet2 repository authored by Tom Ardersoon\n",
    "\n",
    "#### Author: \n",
    "Alejandro Coca-Castro"
   ]
  },
  {
   "cell_type": "markdown",
   "metadata": {},
   "source": [
    "## Set the environment"
   ]
  },
  {
   "cell_type": "code",
   "execution_count": 1,
   "metadata": {},
   "outputs": [],
   "source": [
    "# Import the required packages\n",
    "import virtualenv\n",
    "import pip\n",
    "import os\n",
    "\n",
    "# Define and create the base directory install virtual environments\n",
    "venvs_dir = os.path.join(os.path.expanduser(\"~\"), \"nb-venvs\")\n",
    "\n",
    "if not os.path.isdir(venvs_dir):\n",
    "    os.makedirs(venvs_dir)\n",
    "    \n",
    "# Define the venv directory\n",
    "venv_dir = os.path.join(venvs_dir, 'venv-cdi')\n",
    "\n",
    "if not os.path.exists(venv_dir):\n",
    "    # Create the virtual environment\n",
    "    virtualenv.create_environment(venv_dir)\n",
    "    \n",
    "    # Install a set of required packages via `pip`\n",
    "    requirements = ['cdsapi', 'intake']\n",
    "\n",
    "    for pkg in requirements:\n",
    "        pip.main([\"install\", \"--prefix\", venv_dir, pkg])\n",
    "        \n",
    "# Activate the venv\n",
    "activate_file = os.path.join(venv_dir, \"bin\", \"activate_this.py\")\n",
    "exec(open(activate_file).read(), dict(__file__=activate_file))"
   ]
  },
  {
   "cell_type": "markdown",
   "metadata": {},
   "source": [
    "## Load libraries"
   ]
  },
  {
   "cell_type": "code",
   "execution_count": 2,
   "metadata": {},
   "outputs": [],
   "source": [
    "import cdsapi\n",
    "import xarray as xr\n",
    "import numpy as np\n",
    "import time\n",
    "import matplotlib.pyplot as plt"
   ]
  },
  {
   "cell_type": "markdown",
   "metadata": {},
   "source": [
    "## Request ERA5 data from CDI API"
   ]
  },
  {
   "cell_type": "code",
   "execution_count": 10,
   "metadata": {},
   "outputs": [],
   "source": [
    "cds = cdsapi.Client()"
   ]
  },
  {
   "cell_type": "code",
   "execution_count": 4,
   "metadata": {},
   "outputs": [],
   "source": [
    "# Settings\n",
    "## Variables\n",
    "variables = {\n",
    "    'tas': {\n",
    "        'cdi_name': '2m_temperature',\n",
    "    },\n",
    "    'tos': {\n",
    "        'cdi_name': 'sea_surface_temperature',\n",
    "    },\n",
    "    'ta500': {\n",
    "        'plevel': '500',\n",
    "        'cdi_name': 'temperature',\n",
    "    },\n",
    "}\n",
    "\n",
    "## Target months, days and times\n",
    "months = [\n",
    "    '01', '02', '03', '04', '05', '06',\n",
    "    '07', '08', '09', '10', '11', '12'\n",
    "]\n",
    "\n",
    "days = [\n",
    "    '01', '02', '03',\n",
    "    '04', '05', '06',\n",
    "    '07', '08', '09',\n",
    "    '10', '11', '12',\n",
    "    '13', '14', '15',\n",
    "    '16', '17', '18',\n",
    "    '19', '20', '21',\n",
    "    '22', '23', '24',\n",
    "    '25', '26', '27',\n",
    "    '28', '29', '30',\n",
    "    '31',\n",
    "]\n",
    "\n",
    "times = [\n",
    "    '00:00', '01:00', '02:00',\n",
    "    '03:00', '04:00', '05:00',\n",
    "    '06:00', '07:00', '08:00',\n",
    "    '09:00', '10:00', '11:00',\n",
    "    '12:00', '13:00', '14:00',\n",
    "    '15:00', '16:00', '17:00',\n",
    "    '18:00', '19:00', '20:00',\n",
    "    '21:00', '22:00', '23:00',\n",
    "]"
   ]
  },
  {
   "cell_type": "code",
   "execution_count": 5,
   "metadata": {},
   "outputs": [],
   "source": [
    "# Variables\n",
    "var = 'ta500'\n",
    "hemisphere = 'nh'\n",
    "year = 2020\n",
    "\n",
    "# Output folder and files\n",
    "var_folder = os.path.join(os.path.expanduser(\"~\"),'data', hemisphere, var)\n",
    "if not os.path.exists(var_folder):\n",
    "    os.makedirs(var_folder)\n",
    "    \n",
    "download_path = os.path.join(var_folder, '{}_latlon_hourly_{}_{}.nc'.format(var, year, year))\n",
    "daily_fpath = os.path.join(var_folder, '{}_latlon_{}_{}.nc'.format(var, year, year))"
   ]
  },
  {
   "cell_type": "code",
   "execution_count": 7,
   "metadata": {},
   "outputs": [],
   "source": [
    "# Settings \n",
    "if hemisphere == 'nh':\n",
    "    area = [90, -180, 0, 180]\n",
    "elif hemisphere == 'sh':\n",
    "    area = [-90, -180, 0, 180]\n",
    "elif hemisphere == 'nh_sh':\n",
    "    area = [-90, -180, 90, 180]\n",
    "\n",
    "var_dict = variables[var]\n",
    "\n",
    "retrieve_dict = {\n",
    "    'product_type': 'reanalysis',\n",
    "    'variable': var_dict['cdi_name'],\n",
    "    'year': year,\n",
    "    'month': months,\n",
    "    'day': days,\n",
    "    'time': times,\n",
    "    'format': 'netcdf',\n",
    "    'area': area\n",
    "}\n",
    "\n",
    "if 'plevel' not in var_dict.keys():\n",
    "    dataset_str = 'reanalysis-era5-single-levels'\n",
    "\n",
    "elif 'plevel' in var_dict.keys():\n",
    "    dataset_str = 'reanalysis-era5-pressure-levels'\n",
    "    retrieve_dict['pressure_level'] = var_dict['plevel']"
   ]
  },
  {
   "cell_type": "code",
   "execution_count": null,
   "metadata": {},
   "outputs": [
    {
     "name": "stderr",
     "output_type": "stream",
     "text": [
      "2021-05-14 20:58:48,263 INFO Welcome to the CDS\n",
      "2021-05-14 20:58:48,266 INFO Sending request to https://cds.climate.copernicus.eu/api/v2/resources/reanalysis-era5-pressure-levels\n",
      "2021-05-14 20:58:48,301 INFO Request is queued\n",
      "2021-05-14 20:58:53,109 INFO Request is running\n"
     ]
    }
   ],
   "source": [
    "present_time = time.time()\n",
    "cds.retrieve(dataset_str, retrieve_dict, download_path)\n",
    "print(\"--- %s seconds ---\" % (time.time() - start_time))\n",
    "print('\\n\\nDownload completed.')"
   ]
  },
  {
   "cell_type": "markdown",
   "metadata": {},
   "source": [
    "## Load and resample from hourly to daily"
   ]
  },
  {
   "cell_type": "code",
   "execution_count": null,
   "metadata": {},
   "outputs": [],
   "source": [
    "da = xr.open_dataarray(download_path)"
   ]
  },
  {
   "cell_type": "code",
   "execution_count": null,
   "metadata": {},
   "outputs": [],
   "source": [
    "print('\\n\\nComputing daily averages... ', end='', flush=True)\n",
    "da_daily = da.resample(time='1D').reduce(np.mean)\n",
    "\n",
    "if var == 'zg500' or var == 'zg250':\n",
    "    da_daily = da_daily / 9.80665\n",
    "\n",
    "if var == 'tos':\n",
    "    # Replace every value outside of SST < 1000 with zeros (the ERA5 masked values)\n",
    "    da_daily = da_daily.where(da_daily < 1000., 0)"
   ]
  },
  {
   "cell_type": "code",
   "execution_count": null,
   "metadata": {},
   "outputs": [],
   "source": [
    "print(np.unique(da_daily.data)[[0, -1]])  # TEMP\n",
    "print('saving new daily year file... ', end='', flush=True)\n",
    "da_daily.to_netcdf(daily_fpath)"
   ]
  },
  {
   "cell_type": "markdown",
   "metadata": {},
   "source": [
    "## Visualization"
   ]
  },
  {
   "cell_type": "code",
   "execution_count": null,
   "metadata": {},
   "outputs": [],
   "source": [
    "# plot the last timestep\n",
    "da.isel(time=-1).plot()"
   ]
  },
  {
   "cell_type": "code",
   "execution_count": null,
   "metadata": {},
   "outputs": [],
   "source": [
    "# plot a timeseries at one location\n",
    "da.sel(longitude=114.3055, latitude=30.5928, method='nearest').plot()"
   ]
  }
 ],
 "metadata": {
  "kernelspec": {
   "display_name": "pangeo",
   "language": "python",
   "name": "pangeo"
  },
  "language_info": {
   "codemirror_mode": {
    "name": "ipython",
    "version": 3
   },
   "file_extension": ".py",
   "mimetype": "text/x-python",
   "name": "python",
   "nbconvert_exporter": "python",
   "pygments_lexer": "ipython3",
   "version": "3.7.10"
  }
 },
 "nbformat": 4,
 "nbformat_minor": 4
}
